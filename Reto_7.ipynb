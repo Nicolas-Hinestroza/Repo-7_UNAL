{
 "cells": [
  {
   "cell_type": "code",
   "execution_count": null,
   "metadata": {},
   "outputs": [],
   "source": [
    "# PUNTO NUMERO 1\n",
    "n = 0 # Definimos la variable n\n",
    "while n < 100: # Mientras que n sea menor que 100 haga\n",
    " n += 1 # n es igual al valor mas 1 y asi se repite\n",
    " print(\"Este es el valor \" + str(n) + \" y su cuadrado es: \" + str(n**2)) # Cuando el proceso llega a su fin imprimimos"
   ]
  },
  {
   "cell_type": "code",
   "execution_count": null,
   "metadata": {},
   "outputs": [],
   "source": [
    "# PUNTO NUMERO 2\n",
    "p : int = 0 # Asignamos p para definir las variables pares\n",
    "i : int = 0 # Asignamos i para definir las variables impares\n",
    "i = 2 * n + 1 # se define una formula sensilla para sacar los numeros impares\n",
    "while (p < 1000): # Mientras que p sea menor que mil haga:\n",
    "  p += 1  # p se le supa uno para que quede valiendo 1\n",
    "  if p % 2 != 0: # Ahora este proceso va a hacer que se impriman todos los numeros pares\n",
    "    continue\n",
    "  print(\"los valores pares son: \" + str(p) + \" y los valores impares son: \" + str(i)) # Se imprimen los resultados \n",
    "  i += 2  # Ahora este proceso va a hacer que se impriman todos los numeros impares\n"
   ]
  },
  {
   "cell_type": "code",
   "execution_count": 2,
   "metadata": {},
   "outputs": [],
   "source": [
    "# PUNTO NUMERO 3\n",
    "n = int(input(\"Escribe un valor mayor que 2: \")) # se define la variable n \n",
    "if n > 2: # debe ser un numero mayor que 2\n",
    "   while n >= 2: # Mientras que n sea mayor o igual a 2 haga\n",
    "         if n % 2 == 0: # si el residuo de la division entre n y 2 es de 0 asi solo imprimiremos los pares \n",
    "            print(\"Este es el valor numero \" + str(n)) # Se imprimen los numeros\n",
    "            n -=2 # Utilizamos esta operacion para que n vaya disminuyendo de 2 en 2\n",
    "else:\n",
    "    n = int(input(\"ERROR, Digita un valor mayor que 2\")) # si no es asi se imprime error.\n",
    "    \n",
    "     "
   ]
  },
  {
   "cell_type": "code",
   "execution_count": null,
   "metadata": {},
   "outputs": [],
   "source": [
    "# PUNTO NUMERO 4\n",
    "A = 25000000 # Definimos la variable A como el pais A\n",
    "B = 18900000 # Definimos la variable B como el pais B\n",
    "Crecimiento_A = 0.02 # Definimos la tasa de crecimiento del pais A\n",
    "Crecimiento_B = 0.03 # Definimos la tasa de crecimiento del pais B\n",
    "Temporada = 2022 # Definimos el año \n",
    "while B < A: # Mientras que el pais B sea menor que A haga\n",
    "    Temporada += 1 #Se le va sumando un año segun la taza de crecimiento de los paises\n",
    "    A += A * Crecimiento_A # utilizamos una operacion en la que A es el valor de la poblacion por la taza de crecimiento del pais A\n",
    "    B += B * Crecimiento_B # utilizamos una operacion en la que B es el valor de la poblacion por la taza de crecimiento de pais B\n",
    "\n",
    "print(\"El Pais B supero a el Pais A en el año \" + str(Temporada)) #Imprimimos el resultado de los procesos"
   ]
  },
  {
   "cell_type": "code",
   "execution_count": null,
   "metadata": {},
   "outputs": [],
   "source": [
    "# PUNTO NUMERO 5\n",
    "n = int(input(\"Escribe un valor: \")) # Primero vamos a definir n como la variable que el programa va a leer\n",
    "f = 1 # f la variable para definir a los factoriales\n",
    "m = n # m va a ser el mismo n solo que lo vamos a utilizar para la impresion de resto es innecesario \n",
    "while n > 0: # mientras que n sea mayor que 0 haga\n",
    "    f*= n # f es el valor que quedara valiendo despues de multiplicarse entre f y n\n",
    "    n -= 1 # para que se cumpla la relacion de los factoriales n debe de ir bajando hasta llegar a 0\n",
    "print(\"El factorial del valor \" + str(m) + \" es: \" + str(f)) # cuando se complete el proceso se imprimira el numero digitado (n) y el factorial (f)\n"
   ]
  },
  {
   "cell_type": "code",
   "execution_count": null,
   "metadata": {},
   "outputs": [],
   "source": [
    "# PUNTO NUMERO 6\n",
    "m : int = 1 # vamos a definir la variable M como el tope maximo para que el programa adivine\n",
    "M : int = 100 # vamos a definir la variable m como el tope minimo para que el programa adivine\n",
    "n : bool = False # se define como un bool si es falso se acaba el programa\n",
    "l = input(\" Hola, piensa en un numero y yo lo voy a adivinar ¿Estas listo? (si/no)\") # Colocamos este comentario para que el programa se vea mas bonito :)\n",
    "if l.lower() == \"si\": # si deice que si el programa continua\n",
    "   while not n: # Mientras no sea n haga\n",
    "         i = (M + m) // 2 # vamos a dar un inicio al programa asi este evidenciara si necesita aumentar o disminuir.\n",
    "         r = input(\"¿El numero en el que estabas pensando es \" + str(i) +\"? (si/no)\") # aca preguntamos si el numero i (es decir el inicio) es el numero en el que pensaba\n",
    "         if r.lower() == \"si\": # si el numero es el que pensaba...\n",
    "            n = True # el programa llega a su fin y a adivinado el numero\n",
    "            print(\"Lo logre ya adivine tu valor y es \" + str(i) + \", ten un lindo dia ;)\") # imprime que a adivinado el numero e imprime el numero\n",
    "         elif r.lower() == \"no\": # si el numero i no es entonces el programa preguntara...\n",
    "              r = input(\"El numero es mayor o menor que \" + str(i) + \"? (mayor/menor)\") # el programa preguntara si es mayor o menor que i \n",
    "         if r.lower() == \"mayor\": # si es mayor el programa...\n",
    "              m = i + 1 # El programa realizara una operacion en el cual el tope minimo es igual a i (el valor con el que veniamos) y le sumara 1\n",
    "         elif r.lower()==\"menor\": # si es menor el programa...\n",
    "              M = i - 1 # El programa realizara una operacion en el cual el tope maximo es igual a i (el valor con el que veniamos) y le sumara 1\n",
    "              # Todo este proceso se va a ir repitiendo y el programa se va a ir preguntando segun lo que tu contestes hasta que se adivine el numero.\n",
    "else:\n",
    "   print(\"Lo siento el valor que ingresaste no es valido :( \") # Si se escribe otro tipo de respuesta pues se imprimira error.\n",
    "\n"
   ]
  },
  {
   "cell_type": "code",
   "execution_count": null,
   "metadata": {},
   "outputs": [],
   "source": [
    "# PUNTO NUMERO 7\n",
    "n = int(input(\"Escribe un valor menor que 50 y mayor que 2: \")) # vamos a definir la variable n como el numero que recibe el programa\n",
    "a = 1 # a van a ser los divisores\n",
    "if n < 50 and n > 2: # Primero para confirmar que el numero digitado sea 2 < n < 50...\n",
    "    print (\"Los divisores de \" + str(n) + \" son \") # imprimimos para que el programa se vea mas bonito.\n",
    "    while a <= n: # Mientras que a sea menor o igual que n haga\n",
    "        if n % a == 0: # si el residuo de la division enytre a y n es 0 entonces...\n",
    "         print (a) # imprimir los divisores. \n",
    "        a += 1 # para ir mirando se van sumando los numeros esperando que se encuentre algun divisor.\n",
    "else:\n",
    "    print(\"ERROR, Diguita un valor que sea menor que 50 y mayor que 2\") # si el numero digitado no se encuentra dentro del rango solicitado escribir error.\n"
   ]
  },
  {
   "cell_type": "code",
   "execution_count": 19,
   "metadata": {},
   "outputs": [
    {
     "ename": "SyntaxError",
     "evalue": "invalid syntax (2830134181.py, line 2)",
     "output_type": "error",
     "traceback": [
      "\u001b[1;36m  Cell \u001b[1;32mIn[19], line 2\u001b[1;36m\u001b[0m\n\u001b[1;33m    return x += 1 and i +=1              #definimos primo()                  #asignamos el valor 1 a 'n'\u001b[0m\n\u001b[1;37m             ^\u001b[0m\n\u001b[1;31mSyntaxError\u001b[0m\u001b[1;31m:\u001b[0m invalid syntax\n"
     ]
    }
   ],
   "source": [
    "def p (x = 0 ):              #definimos primo()                  #asignamos el valor 1 a 'n'\n",
    "    return x + 1\n",
    "while (n<=100):         #iniciamos un ciclo si 'n' es menor o igual a 100\n",
    "        i = 1               #asignamos el valor 1 a 'i'              #asignamos el valor 0 a 'x'\n",
    "        while i <= n:       #iniciamos un ciclo si 'i' es menor o igual a 'n'\n",
    "            if n % i == 0:      #si el residuo de 'n'/'i' es 0, 'i' es divisor de 'n'\n",
    "              #sumamos 1 a 'x'\n",
    "            i += 1       #sumamos 1 a 'i'\n",
    "        if x == 2:          #si x es igual a 2, 'n' es primo\n",
    "            print(n)        #imprimimos 'n'\n",
    "        n += 1           #sumamos 1 a 'n'\n",
    "\n",
    "p()                     #ejecutamos la función primo"
   ]
  },
  {
   "cell_type": "code",
   "execution_count": 48,
   "metadata": {},
   "outputs": [
    {
     "name": "stdout",
     "output_type": "stream",
     "text": [
      "El cuadrado de 6 es 36\n"
     ]
    }
   ],
   "source": [
    "def elevarCuadrado(x : int):\n",
    "  return x**2\n",
    "if __name__ == \"__main__\":\n",
    "  d = elevarCuadrado(6)\n",
    "  print(\"El cuadrado de \" + str(6) + \" es \" + str(d))"
   ]
  },
  {
   "cell_type": "code",
   "execution_count": 111,
   "metadata": {},
   "outputs": [
    {
     "name": "stdout",
     "output_type": "stream",
     "text": [
      "los numeros primos del 1 al 100 son: \n",
      "2\n",
      "3\n",
      "5\n",
      "7\n",
      "11\n",
      "13\n",
      "17\n",
      "19\n",
      "23\n",
      "29\n",
      "31\n",
      "37\n",
      "41\n",
      "43\n",
      "47\n",
      "53\n",
      "59\n",
      "61\n",
      "67\n",
      "71\n",
      "73\n",
      "79\n",
      "83\n",
      "89\n",
      "97\n"
     ]
    }
   ],
   "source": [
    "print(\"los numeros primos del 1 al 100 son: \")# Imprimimos esta frase para que el programa se vea mas bonito\n",
    "def primo(n : int): #Definimos la funcion primo como n\n",
    "    i = 2 # Asignamos la variable i como 2\n",
    "    a = n ** 0.5 + 1 # la variable a es la operacion entre n elevado entre 0.5 sumado 1\n",
    "    if n < 2: #si n es menor que 2 entonces...\n",
    "        return False # el programa no leera los numeron menores a 2\n",
    "    while i != int(a): # mientras que i sea diferente al valor que ya asignamos anteriormente (a) \n",
    "        if n % i == 0: #si el residuo de la division entre n e i es 0 entonces...\n",
    "          return False #se tornara como falso\n",
    "        i += 1  # y para que vayan aumentando los numeros usamos la operacion i igual a i mas 1\n",
    "    return True # se torna verdadera la funcion\n",
    "if __name__ == \"__main__\": # ahora ejecutamos el programa con la funcion main\n",
    "   x = 1 #definimos la variable como x como 1\n",
    "   while x <= 100: # mientras que x sea menor o igual a 100 entonces haga\n",
    "      if primo(x): # los valores que venian anterior mente son los que se van a imprimir es decir los primos.\n",
    "         print(x) # se imprimen los primos hasta que llegue a 100\n",
    "      x += 1 # para que vaya aumentando el x e ir mirando si es primo o no, se le suma a x 1"
   ]
  }
 ],
 "metadata": {
  "kernelspec": {
   "display_name": "Python 3",
   "language": "python",
   "name": "python3"
  },
  "language_info": {
   "codemirror_mode": {
    "name": "ipython",
    "version": 3
   },
   "file_extension": ".py",
   "mimetype": "text/x-python",
   "name": "python",
   "nbconvert_exporter": "python",
   "pygments_lexer": "ipython3",
   "version": "3.11.2"
  },
  "orig_nbformat": 4
 },
 "nbformat": 4,
 "nbformat_minor": 2
}
